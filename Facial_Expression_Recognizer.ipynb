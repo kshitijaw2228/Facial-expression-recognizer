{
  "nbformat": 4,
  "nbformat_minor": 0,
  "metadata": {
    "colab": {
      "name": "Facial Expression Recognizer.ipynb",
      "provenance": [],
      "authorship_tag": "ABX9TyP6L0O5aYtOv5DFOeny/Ibz",
      "include_colab_link": true
    },
    "kernelspec": {
      "name": "python3",
      "display_name": "Python 3"
    },
    "language_info": {
      "name": "python"
    },
    "accelerator": "GPU"
  },
  "cells": [
    {
      "cell_type": "markdown",
      "metadata": {
        "id": "view-in-github",
        "colab_type": "text"
      },
      "source": [
        "<a href=\"https://colab.research.google.com/github/kshitijaw2228/Facial-expression-recognizer/blob/main/Facial_Expression_Recognizer.ipynb\" target=\"_parent\"><img src=\"https://colab.research.google.com/assets/colab-badge.svg\" alt=\"Open In Colab\"/></a>"
      ]
    },
    {
      "cell_type": "code",
      "metadata": {
        "id": "Q_BxFx_WOO0F"
      },
      "source": [
        "# Supress Warnings\n",
        "\n",
        "import warnings\n",
        "warnings.filterwarnings('ignore')"
      ],
      "execution_count": 1,
      "outputs": []
    },
    {
      "cell_type": "code",
      "metadata": {
        "colab": {
          "base_uri": "https://localhost:8080/"
        },
        "id": "qhkAN6frPWMH",
        "outputId": "997c1767-e445-4f72-a03d-3224f1a793a6"
      },
      "source": [
        "!wget https://www.dropbox.com/s/si11cws2pyho1bp/archive.zip"
      ],
      "execution_count": 2,
      "outputs": [
        {
          "output_type": "stream",
          "text": [
            "--2021-07-21 08:45:12--  https://www.dropbox.com/s/si11cws2pyho1bp/archive.zip\n",
            "Resolving www.dropbox.com (www.dropbox.com)... 162.125.1.18, 2620:100:6016:18::a27d:112\n",
            "Connecting to www.dropbox.com (www.dropbox.com)|162.125.1.18|:443... connected.\n",
            "HTTP request sent, awaiting response... 301 Moved Permanently\n",
            "Location: /s/raw/si11cws2pyho1bp/archive.zip [following]\n",
            "--2021-07-21 08:45:12--  https://www.dropbox.com/s/raw/si11cws2pyho1bp/archive.zip\n",
            "Reusing existing connection to www.dropbox.com:443.\n",
            "HTTP request sent, awaiting response... 302 Found\n",
            "Location: https://uce7e7befb6b028c7594354a63f9.dl.dropboxusercontent.com/cd/0/inline/BSuXlJcPG5c549v70zaiNHWOjU4IesBMeVN92UlNap2_AhFeL5_905lBgtv4iRPM_Wg_KJ8VStdOp_TfwHRxYrCpI2C36WMEdoVlqp-Ei1OFBMBbWlBp0QDx6e-BN1gCOI-3x0h1KYx_4Y9YSAMXsfBV/file# [following]\n",
            "--2021-07-21 08:45:14--  https://uce7e7befb6b028c7594354a63f9.dl.dropboxusercontent.com/cd/0/inline/BSuXlJcPG5c549v70zaiNHWOjU4IesBMeVN92UlNap2_AhFeL5_905lBgtv4iRPM_Wg_KJ8VStdOp_TfwHRxYrCpI2C36WMEdoVlqp-Ei1OFBMBbWlBp0QDx6e-BN1gCOI-3x0h1KYx_4Y9YSAMXsfBV/file\n",
            "Resolving uce7e7befb6b028c7594354a63f9.dl.dropboxusercontent.com (uce7e7befb6b028c7594354a63f9.dl.dropboxusercontent.com)... 162.125.80.15, 2620:100:6022:15::a27d:420f\n",
            "Connecting to uce7e7befb6b028c7594354a63f9.dl.dropboxusercontent.com (uce7e7befb6b028c7594354a63f9.dl.dropboxusercontent.com)|162.125.80.15|:443... connected.\n",
            "HTTP request sent, awaiting response... 302 Found\n",
            "Location: /cd/0/inline2/BSueY-t1ltjys49d14DUEgYswHlhNvETc3EUrvIv3MyWkBPZ2KsmPMiXqlVeAUopX9Qvw1y6IZItPZag8vdJg6r4CBAuUwsOIfD9q4qv0kr0_i_PMn4GIyj94XfEh3xaA3CInwBOgnHEFvRqHF9Tskf5jgRqEuNAVSw7og7ruJYkzNedwrAsp2eEHVHr3Py2IPpkCiQswJt3600jIQrMV5kWJsJ8xhTuPAVPsVFU-FmwuB1KaqMNBl4cxahYWJDbIoqG4DgS5nGc2D-9CeF1_bpYkUxT7-QuF1eulDdccfi5oz2GQRVg-qMBbflJaIgONh6eTRYq-P5ICJ8xghW0CORKRSY0pyYwfMxDvquz5CBlqjvuoR3DoUwE8Qn3O0eCuX4/file [following]\n",
            "--2021-07-21 08:45:15--  https://uce7e7befb6b028c7594354a63f9.dl.dropboxusercontent.com/cd/0/inline2/BSueY-t1ltjys49d14DUEgYswHlhNvETc3EUrvIv3MyWkBPZ2KsmPMiXqlVeAUopX9Qvw1y6IZItPZag8vdJg6r4CBAuUwsOIfD9q4qv0kr0_i_PMn4GIyj94XfEh3xaA3CInwBOgnHEFvRqHF9Tskf5jgRqEuNAVSw7og7ruJYkzNedwrAsp2eEHVHr3Py2IPpkCiQswJt3600jIQrMV5kWJsJ8xhTuPAVPsVFU-FmwuB1KaqMNBl4cxahYWJDbIoqG4DgS5nGc2D-9CeF1_bpYkUxT7-QuF1eulDdccfi5oz2GQRVg-qMBbflJaIgONh6eTRYq-P5ICJ8xghW0CORKRSY0pyYwfMxDvquz5CBlqjvuoR3DoUwE8Qn3O0eCuX4/file\n",
            "Reusing existing connection to uce7e7befb6b028c7594354a63f9.dl.dropboxusercontent.com:443.\n",
            "HTTP request sent, awaiting response... 200 OK\n",
            "Length: 63252113 (60M) [application/zip]\n",
            "Saving to: ‘archive.zip’\n",
            "\n",
            "archive.zip         100%[===================>]  60.32M  15.9MB/s    in 4.4s    \n",
            "\n",
            "2021-07-21 08:45:20 (13.6 MB/s) - ‘archive.zip’ saved [63252113/63252113]\n",
            "\n"
          ],
          "name": "stdout"
        }
      ]
    },
    {
      "cell_type": "code",
      "metadata": {
        "id": "sTWAYeY0PWdJ"
      },
      "source": [
        "!unzip -q \"/content/archive.zip\""
      ],
      "execution_count": 3,
      "outputs": []
    },
    {
      "cell_type": "code",
      "metadata": {
        "id": "x3sL-vAZPWgq"
      },
      "source": [
        "# Imports required for this project\n",
        "import tensorflow as tf\n",
        "import numpy as np\n",
        "import matplotlib.pyplot as plt\n",
        "from pathlib import Path\n",
        "\n",
        "tf.random.set_seed(4)"
      ],
      "execution_count": 4,
      "outputs": []
    },
    {
      "cell_type": "code",
      "metadata": {
        "id": "X7nyIMg4PWlG"
      },
      "source": [
        "# Creating the Pathlib PATH objects\n",
        "train_path = Path(\"/content/train\")\n",
        "test_path = Path(\"/content/test\")"
      ],
      "execution_count": 5,
      "outputs": []
    },
    {
      "cell_type": "code",
      "metadata": {
        "colab": {
          "base_uri": "https://localhost:8080/"
        },
        "id": "imj0Tw2NPWnr",
        "outputId": "aa56a6ff-63e5-45af-c0e0-bb0a8046c6ae"
      },
      "source": [
        "# Getting Image paths \n",
        "train_image_paths = list(train_path.glob(\"*/*\"))\n",
        "train_image_paths = list(map(lambda x : str(x) , train_image_paths))\n",
        "\n",
        "train_image_paths[:10]"
      ],
      "execution_count": 6,
      "outputs": [
        {
          "output_type": "execute_result",
          "data": {
            "text/plain": [
              "['/content/train/neutral/Training_19037384.jpg',\n",
              " '/content/train/neutral/Training_87232222.jpg',\n",
              " '/content/train/neutral/Training_58773350.jpg',\n",
              " '/content/train/neutral/Training_5181007.jpg',\n",
              " '/content/train/neutral/Training_88309113.jpg',\n",
              " '/content/train/neutral/Training_46648975.jpg',\n",
              " '/content/train/neutral/Training_3223359.jpg',\n",
              " '/content/train/neutral/Training_31153578.jpg',\n",
              " '/content/train/neutral/Training_23146617.jpg',\n",
              " '/content/train/neutral/Training_73762189.jpg']"
            ]
          },
          "metadata": {
            "tags": []
          },
          "execution_count": 6
        }
      ]
    },
    {
      "cell_type": "code",
      "metadata": {
        "colab": {
          "base_uri": "https://localhost:8080/"
        },
        "id": "kULzpv_oPWqJ",
        "outputId": "dfa32585-91bf-4fab-f27a-83d3c05a5c2c"
      },
      "source": [
        "# Getting their respective labels \n",
        "\n",
        "def get_label(image_path):\n",
        "    return image_path.split(\"/\")[-2]\n",
        "\n",
        "train_image_labels = list(map(lambda x : get_label(x) , train_image_paths))\n",
        "train_image_labels[:10]"
      ],
      "execution_count": 7,
      "outputs": [
        {
          "output_type": "execute_result",
          "data": {
            "text/plain": [
              "['neutral',\n",
              " 'neutral',\n",
              " 'neutral',\n",
              " 'neutral',\n",
              " 'neutral',\n",
              " 'neutral',\n",
              " 'neutral',\n",
              " 'neutral',\n",
              " 'neutral',\n",
              " 'neutral']"
            ]
          },
          "metadata": {
            "tags": []
          },
          "execution_count": 7
        }
      ]
    },
    {
      "cell_type": "code",
      "metadata": {
        "colab": {
          "base_uri": "https://localhost:8080/"
        },
        "id": "dSxt7IlyPWsd",
        "outputId": "f448a601-7b88-46d8-e2d3-d0df367a1bf0"
      },
      "source": [
        "from sklearn.preprocessing import LabelEncoder \n",
        "\n",
        "Le = LabelEncoder()\n",
        "train_image_labels = Le.fit_transform(train_image_labels)\n",
        "\n",
        "train_image_labels[:10]"
      ],
      "execution_count": 8,
      "outputs": [
        {
          "output_type": "execute_result",
          "data": {
            "text/plain": [
              "array([4, 4, 4, 4, 4, 4, 4, 4, 4, 4])"
            ]
          },
          "metadata": {
            "tags": []
          },
          "execution_count": 8
        }
      ]
    },
    {
      "cell_type": "code",
      "metadata": {
        "colab": {
          "base_uri": "https://localhost:8080/"
        },
        "id": "Zjtxr6hlPWvA",
        "outputId": "3cb8cb1e-8007-4ca7-f6e4-13f1dc118c18"
      },
      "source": [
        "train_image_labels = tf.keras.utils.to_categorical(train_image_labels)\n",
        "\n",
        "train_image_labels[:10]"
      ],
      "execution_count": 9,
      "outputs": [
        {
          "output_type": "execute_result",
          "data": {
            "text/plain": [
              "array([[0., 0., 0., 0., 1., 0., 0.],\n",
              "       [0., 0., 0., 0., 1., 0., 0.],\n",
              "       [0., 0., 0., 0., 1., 0., 0.],\n",
              "       [0., 0., 0., 0., 1., 0., 0.],\n",
              "       [0., 0., 0., 0., 1., 0., 0.],\n",
              "       [0., 0., 0., 0., 1., 0., 0.],\n",
              "       [0., 0., 0., 0., 1., 0., 0.],\n",
              "       [0., 0., 0., 0., 1., 0., 0.],\n",
              "       [0., 0., 0., 0., 1., 0., 0.],\n",
              "       [0., 0., 0., 0., 1., 0., 0.]], dtype=float32)"
            ]
          },
          "metadata": {
            "tags": []
          },
          "execution_count": 9
        }
      ]
    },
    {
      "cell_type": "code",
      "metadata": {
        "id": "XNDArBhmPWyh"
      },
      "source": [
        "from sklearn.model_selection import train_test_split \n",
        "\n",
        "Train_paths , Val_paths , Train_labels , Val_labels = train_test_split(train_image_paths , train_image_labels , test_size = 0.25)"
      ],
      "execution_count": 10,
      "outputs": []
    },
    {
      "cell_type": "code",
      "metadata": {
        "colab": {
          "base_uri": "https://localhost:8080/"
        },
        "id": "k0-SF5BTPW6Z",
        "outputId": "2fcd09a3-021c-4247-a80c-3385732d0e0a"
      },
      "source": [
        "# Compute class weights \n",
        "\n",
        "classTotals = Train_labels.sum(axis=0)\n",
        "classWeight = classTotals.max() / classTotals\n",
        "\n",
        "class_weight = {e : weight for e , weight in enumerate(classWeight)}\n",
        "print(class_weight)"
      ],
      "execution_count": 11,
      "outputs": [
        {
          "output_type": "stream",
          "text": [
            "{0: 1.8076539, 1: 16.662577, 2: 1.7567917, 3: 1.0, 4: 1.4813199, 5: 1.4878116, 6: 2.303647}\n"
          ],
          "name": "stdout"
        }
      ]
    },
    {
      "cell_type": "code",
      "metadata": {
        "id": "BeYi2xxdPW92"
      },
      "source": [
        "# Function used for Transformation\n",
        "\n",
        "def load(image , label):\n",
        "    image = tf.io.read_file(image)\n",
        "    image = tf.io.decode_jpeg(image , channels = 3)\n",
        "    return image , label"
      ],
      "execution_count": 12,
      "outputs": []
    },
    {
      "cell_type": "code",
      "metadata": {
        "id": "8FrDXMH7QGSb"
      },
      "source": [
        "# Define IMAGE SIZE and BATCH SIZE \n",
        "IMG_SIZE = 96 \n",
        "BATCH_SIZE = 32\n",
        "\n",
        "# Basic Transformation\n",
        "resize = tf.keras.Sequential([\n",
        "    tf.keras.layers.experimental.preprocessing.Resizing(IMG_SIZE, IMG_SIZE)          \n",
        "])\n",
        "\n",
        "# Data Augmentation\n",
        "data_augmentation = tf.keras.Sequential([\n",
        "    tf.keras.layers.experimental.preprocessing.RandomFlip(\"horizontal\"),\n",
        "    tf.keras.layers.experimental.preprocessing.RandomRotation(0.1),\n",
        "    tf.keras.layers.experimental.preprocessing.RandomZoom(height_factor = (-0.1, -0.05))\n",
        "])"
      ],
      "execution_count": 13,
      "outputs": []
    },
    {
      "cell_type": "code",
      "metadata": {
        "id": "sxvjJue8QGg3"
      },
      "source": [
        "# Function used to Create a Tensorflow Data Object\n",
        "AUTOTUNE = tf.data.experimental.AUTOTUNE\n",
        "def get_dataset(paths , labels , train = True):\n",
        "    image_paths = tf.convert_to_tensor(paths)\n",
        "    labels = tf.convert_to_tensor(labels)\n",
        "\n",
        "    image_dataset = tf.data.Dataset.from_tensor_slices(image_paths)\n",
        "    label_dataset = tf.data.Dataset.from_tensor_slices(labels)\n",
        "\n",
        "    dataset = tf.data.Dataset.zip((image_dataset , label_dataset))\n",
        "\n",
        "    dataset = dataset.map(lambda image , label : load(image , label))\n",
        "    dataset = dataset.map(lambda image, label: (resize(image), label) , num_parallel_calls=AUTOTUNE)\n",
        "    dataset = dataset.shuffle(1000)\n",
        "    dataset = dataset.batch(BATCH_SIZE)\n",
        "\n",
        "    if train:\n",
        "        dataset = dataset.map(lambda image, label: (data_augmentation(image), label) , num_parallel_calls=AUTOTUNE)\n",
        "    \n",
        "    dataset = dataset.repeat()\n",
        "    return dataset"
      ],
      "execution_count": 14,
      "outputs": []
    },
    {
      "cell_type": "code",
      "metadata": {
        "colab": {
          "base_uri": "https://localhost:8080/"
        },
        "id": "fpvjygGpQGkh",
        "outputId": "bcbe0b19-0dad-4b23-e5c1-c94df1f34291"
      },
      "source": [
        "# Creating Train Dataset object and Verifying it\n",
        "%time train_dataset = get_dataset(Train_paths , Train_labels)\n",
        "\n",
        "image , label = next(iter(train_dataset))\n",
        "print(image.shape)\n",
        "print(label.shape)"
      ],
      "execution_count": 15,
      "outputs": [
        {
          "output_type": "stream",
          "text": [
            "CPU times: user 341 ms, sys: 1.3 ms, total: 343 ms\n",
            "Wall time: 388 ms\n",
            "(32, 96, 96, 3)\n",
            "(32, 7)\n"
          ],
          "name": "stdout"
        }
      ]
    },
    {
      "cell_type": "code",
      "metadata": {
        "colab": {
          "base_uri": "https://localhost:8080/",
          "height": 302
        },
        "id": "ZA2GNzjFQGnP",
        "outputId": "7828551c-ebc7-41a5-be44-90c8ab5a1c61"
      },
      "source": [
        "# View a sample Training Image\n",
        "print(Le.inverse_transform(np.argmax(label , axis = 1))[0])\n",
        "plt.imshow((image[0].numpy()/255).reshape(96 , 96 , 3))"
      ],
      "execution_count": 16,
      "outputs": [
        {
          "output_type": "stream",
          "text": [
            "happy\n"
          ],
          "name": "stdout"
        },
        {
          "output_type": "execute_result",
          "data": {
            "text/plain": [
              "<matplotlib.image.AxesImage at 0x7f8735398f50>"
            ]
          },
          "metadata": {
            "tags": []
          },
          "execution_count": 16
        },
        {
          "output_type": "display_data",
          "data": {
            "image/png": "[encoded data removed]",
            "text/plain": [
              "<Figure size 432x288 with 1 Axes>"
            ]
          },
          "metadata": {
            "tags": [],
            "needs_background": "light"
          }
        }
      ]
    },
    {
      "cell_type": "code",
      "metadata": {
        "colab": {
          "base_uri": "https://localhost:8080/"
        },
        "id": "ZYgkQXkKQGql",
        "outputId": "f0232c16-b32c-48cd-a03f-ca708ce64f8d"
      },
      "source": [
        "%time val_dataset = get_dataset(Val_paths , Val_labels , train = False)\n",
        "\n",
        "image , label = next(iter(val_dataset))\n",
        "print(image.shape)\n",
        "print(label.shape)"
      ],
      "execution_count": 17,
      "outputs": [
        {
          "output_type": "stream",
          "text": [
            "CPU times: user 20.6 ms, sys: 1.81 ms, total: 22.4 ms\n",
            "Wall time: 26.1 ms\n",
            "(32, 96, 96, 3)\n",
            "(32, 7)\n"
          ],
          "name": "stdout"
        }
      ]
    },
    {
      "cell_type": "code",
      "metadata": {
        "colab": {
          "base_uri": "https://localhost:8080/",
          "height": 302
        },
        "id": "n6jTwSx0QZO6",
        "outputId": "12c2ee19-b3c9-4d56-d8a1-fad5488df411"
      },
      "source": [
        "# View a sample Validation Image\n",
        "print(Le.inverse_transform(np.argmax(label , axis = 1))[0])\n",
        "plt.imshow((image[0].numpy()/255).reshape(96 , 96 , 3))"
      ],
      "execution_count": 18,
      "outputs": [
        {
          "output_type": "stream",
          "text": [
            "neutral\n"
          ],
          "name": "stdout"
        },
        {
          "output_type": "execute_result",
          "data": {
            "text/plain": [
              "<matplotlib.image.AxesImage at 0x7f872016c510>"
            ]
          },
          "metadata": {
            "tags": []
          },
          "execution_count": 18
        },
        {
          "output_type": "display_data",
          "data": {
            "image/png": "[encoded data removed]",
            "text/plain": [
              "<Figure size 432x288 with 1 Axes>"
            ]
          },
          "metadata": {
            "tags": [],
            "needs_background": "light"
          }
        }
      ]
    },
    {
      "cell_type": "code",
      "metadata": {
        "colab": {
          "base_uri": "https://localhost:8080/"
        },
        "id": "BWrH7VGwQbuT",
        "outputId": "758b0587-af6a-4e66-fc8f-81b0ac39c0f3"
      },
      "source": [
        "# Building EfficientNet model\n",
        "from tensorflow.keras.applications import EfficientNetB2\n",
        "\n",
        "backbone = EfficientNetB2(\n",
        "    input_shape=(96, 96, 3),\n",
        "    include_top=False\n",
        ")\n",
        "\n",
        "model = tf.keras.Sequential([\n",
        "    backbone,\n",
        "    tf.keras.layers.GlobalAveragePooling2D(),\n",
        "    tf.keras.layers.Dropout(0.3),\n",
        "    tf.keras.layers.Dense(128, activation='relu'),\n",
        "    tf.keras.layers.Dense(7, activation='softmax')\n",
        "])\n",
        "\n",
        "model.summary()"
      ],
      "execution_count": 19,
      "outputs": [
        {
          "output_type": "stream",
          "text": [
            "Downloading data from https://storage.googleapis.com/keras-applications/efficientnetb2_notop.h5\n",
            "31793152/31790344 [==============================] - 0s 0us/step\n",
            "Model: \"sequential_2\"\n",
            "_________________________________________________________________\n",
            "Layer (type)                 Output Shape              Param #   \n",
            "=================================================================\n",
            "efficientnetb2 (Functional)  (None, 3, 3, 1408)        7768569   \n",
            "_________________________________________________________________\n",
            "global_average_pooling2d (Gl (None, 1408)              0         \n",
            "_________________________________________________________________\n",
            "dropout (Dropout)            (None, 1408)              0         \n",
            "_________________________________________________________________\n",
            "dense (Dense)                (None, 128)               180352    \n",
            "_________________________________________________________________\n",
            "dense_1 (Dense)              (None, 7)                 903       \n",
            "=================================================================\n",
            "Total params: 7,949,824\n",
            "Trainable params: 7,882,249\n",
            "Non-trainable params: 67,575\n",
            "_________________________________________________________________\n"
          ],
          "name": "stdout"
        }
      ]
    },
    {
      "cell_type": "code",
      "metadata": {
        "id": "DruqtTTPQbyF"
      },
      "source": [
        "# Compiling your model by providing the Optimizer , Loss and Metrics\n",
        "model.compile(\n",
        "    optimizer=tf.keras.optimizers.Adam(learning_rate=0.001, beta_1=0.9, beta_2=0.999, epsilon=1e-07),\n",
        "    loss = 'categorical_crossentropy',\n",
        "    metrics=['accuracy' , tf.keras.metrics.Precision(name='precision'),tf.keras.metrics.Recall(name='recall')]\n",
        ")"
      ],
      "execution_count": 20,
      "outputs": []
    },
    {
      "cell_type": "code",
      "metadata": {
        "colab": {
          "base_uri": "https://localhost:8080/"
        },
        "id": "G6whSCEYQZR0",
        "outputId": "d97d566e-9e07-4083-a352-7182d9139918"
      },
      "source": [
        "# Train the model\n",
        "history = model.fit(\n",
        "    train_dataset,\n",
        "    steps_per_epoch=len(Train_paths)//BATCH_SIZE,\n",
        "    epochs=12,\n",
        "    validation_data=val_dataset,\n",
        "    validation_steps = len(Val_paths)//BATCH_SIZE,\n",
        "    class_weight=class_weight\n",
        ")"
      ],
      "execution_count": 21,
      "outputs": [
        {
          "output_type": "stream",
          "text": [
            "WARNING:tensorflow:From /usr/local/lib/python3.7/dist-packages/tensorflow/python/ops/array_ops.py:5049: calling gather (from tensorflow.python.ops.array_ops) with validate_indices is deprecated and will be removed in a future version.\n",
            "Instructions for updating:\n",
            "The `validate_indices` argument has no effect. Indices are always validated on CPU and never validated on GPU.\n",
            "Epoch 1/12\n",
            "672/672 [==============================] - 140s 144ms/step - loss: 2.8796 - accuracy: 0.3865 - precision: 0.6405 - recall: 0.1686 - val_loss: 1.4906 - val_accuracy: 0.4697 - val_precision: 0.6064 - val_recall: 0.3336\n",
            "Epoch 2/12\n",
            "672/672 [==============================] - 98s 143ms/step - loss: 2.4225 - accuracy: 0.4817 - precision: 0.6876 - recall: 0.2757 - val_loss: 1.4422 - val_accuracy: 0.4573 - val_precision: 0.5727 - val_recall: 0.3161\n",
            "Epoch 3/12\n",
            "672/672 [==============================] - 94s 141ms/step - loss: 2.2608 - accuracy: 0.5161 - precision: 0.6978 - recall: 0.3157 - val_loss: 1.2337 - val_accuracy: 0.5402 - val_precision: 0.7093 - val_recall: 0.3156\n",
            "Epoch 4/12\n",
            "672/672 [==============================] - 97s 144ms/step - loss: 2.1765 - accuracy: 0.5342 - precision: 0.7114 - recall: 0.3407 - val_loss: 1.2586 - val_accuracy: 0.5339 - val_precision: 0.6704 - val_recall: 0.3598\n",
            "Epoch 5/12\n",
            "672/672 [==============================] - 96s 143ms/step - loss: 2.0744 - accuracy: 0.5526 - precision: 0.7165 - recall: 0.3696 - val_loss: 1.1851 - val_accuracy: 0.5631 - val_precision: 0.7244 - val_recall: 0.3546\n",
            "Epoch 6/12\n",
            "672/672 [==============================] - 94s 140ms/step - loss: 2.0002 - accuracy: 0.5619 - precision: 0.7175 - recall: 0.3877 - val_loss: 1.2706 - val_accuracy: 0.5257 - val_precision: 0.7128 - val_recall: 0.3033\n",
            "Epoch 7/12\n",
            "672/672 [==============================] - 95s 142ms/step - loss: 2.0065 - accuracy: 0.5585 - precision: 0.7091 - recall: 0.3821 - val_loss: 1.1986 - val_accuracy: 0.5611 - val_precision: 0.6636 - val_recall: 0.4491\n",
            "Epoch 8/12\n",
            "672/672 [==============================] - 96s 143ms/step - loss: 1.9038 - accuracy: 0.5846 - precision: 0.7311 - recall: 0.4182 - val_loss: 1.1542 - val_accuracy: 0.5809 - val_precision: 0.6766 - val_recall: 0.4667\n",
            "Epoch 9/12\n",
            "672/672 [==============================] - 95s 141ms/step - loss: 1.8422 - accuracy: 0.5959 - precision: 0.7331 - recall: 0.4444 - val_loss: 1.1515 - val_accuracy: 0.5746 - val_precision: 0.6828 - val_recall: 0.4515\n",
            "Epoch 10/12\n",
            "672/672 [==============================] - 95s 141ms/step - loss: 1.8037 - accuracy: 0.6008 - precision: 0.7313 - recall: 0.4523 - val_loss: 1.1019 - val_accuracy: 0.5884 - val_precision: 0.7180 - val_recall: 0.4302\n",
            "Epoch 11/12\n",
            "672/672 [==============================] - 96s 143ms/step - loss: 1.7277 - accuracy: 0.6111 - precision: 0.7410 - recall: 0.4686 - val_loss: 1.0789 - val_accuracy: 0.6088 - val_precision: 0.6894 - val_recall: 0.5169\n",
            "Epoch 12/12\n",
            "672/672 [==============================] - 96s 143ms/step - loss: 1.7368 - accuracy: 0.6144 - precision: 0.7398 - recall: 0.4682 - val_loss: 1.0578 - val_accuracy: 0.6122 - val_precision: 0.6983 - val_recall: 0.5127\n"
          ],
          "name": "stdout"
        }
      ]
    },
    {
      "cell_type": "code",
      "metadata": {
        "id": "lI5VN7jQQZVi"
      },
      "source": [
        "model.layers[0].trainable = False"
      ],
      "execution_count": 22,
      "outputs": []
    },
    {
      "cell_type": "code",
      "metadata": {
        "id": "yA5SER1DQZqv"
      },
      "source": [
        "# Defining our callbacks \n",
        "checkpoint = tf.keras.callbacks.ModelCheckpoint(\"best_weights.h5\",verbose=1,save_best_only=True,save_weights_only = True)\n",
        "early_stop = tf.keras.callbacks.EarlyStopping(patience=4)"
      ],
      "execution_count": 23,
      "outputs": []
    },
    {
      "cell_type": "code",
      "metadata": {
        "colab": {
          "base_uri": "https://localhost:8080/"
        },
        "id": "eEG4vsD-QGuG",
        "outputId": "c4d6aff1-6b36-4b6a-b977-31c69d77927e"
      },
      "source": [
        "model.summary()"
      ],
      "execution_count": 24,
      "outputs": [
        {
          "output_type": "stream",
          "text": [
            "Model: \"sequential_2\"\n",
            "_________________________________________________________________\n",
            "Layer (type)                 Output Shape              Param #   \n",
            "=================================================================\n",
            "efficientnetb2 (Functional)  (None, 3, 3, 1408)        7768569   \n",
            "_________________________________________________________________\n",
            "global_average_pooling2d (Gl (None, 1408)              0         \n",
            "_________________________________________________________________\n",
            "dropout (Dropout)            (None, 1408)              0         \n",
            "_________________________________________________________________\n",
            "dense (Dense)                (None, 128)               180352    \n",
            "_________________________________________________________________\n",
            "dense_1 (Dense)              (None, 7)                 903       \n",
            "=================================================================\n",
            "Total params: 7,949,824\n",
            "Trainable params: 181,255\n",
            "Non-trainable params: 7,768,569\n",
            "_________________________________________________________________\n"
          ],
          "name": "stdout"
        }
      ]
    },
    {
      "cell_type": "code",
      "metadata": {
        "colab": {
          "base_uri": "https://localhost:8080/"
        },
        "id": "YHqulxndVv9_",
        "outputId": "db062938-7165-4283-9315-5f7a14d94369"
      },
      "source": [
        "# Train the model\n",
        "history = model.fit(\n",
        "    train_dataset,\n",
        "    steps_per_epoch=len(Train_paths)//BATCH_SIZE,\n",
        "    epochs=8,\n",
        "    callbacks=[checkpoint , early_stop],\n",
        "    validation_data=val_dataset,\n",
        "    validation_steps = len(Val_paths)//BATCH_SIZE,\n",
        "    class_weight=class_weight\n",
        ")"
      ],
      "execution_count": 27,
      "outputs": [
        {
          "output_type": "stream",
          "text": [
            "Epoch 1/8\n",
            "672/672 [==============================] - 96s 142ms/step - loss: 1.3042 - accuracy: 0.7042 - precision: 0.7888 - recall: 0.6108 - val_loss: 1.1443 - val_accuracy: 0.6165 - val_precision: 0.6702 - val_recall: 0.5451\n",
            "\n",
            "Epoch 00001: val_loss did not improve from 1.03749\n",
            "Epoch 2/8\n",
            "672/672 [==============================] - 96s 143ms/step - loss: 1.3019 - accuracy: 0.7005 - precision: 0.7892 - recall: 0.6106 - val_loss: 1.1601 - val_accuracy: 0.6143 - val_precision: 0.6612 - val_recall: 0.5625\n",
            "\n",
            "Epoch 00002: val_loss did not improve from 1.03749\n",
            "Epoch 3/8\n",
            "672/672 [==============================] - 95s 141ms/step - loss: 1.2297 - accuracy: 0.7190 - precision: 0.7956 - recall: 0.6358 - val_loss: 1.1596 - val_accuracy: 0.6148 - val_precision: 0.6695 - val_recall: 0.5573\n",
            "\n",
            "Epoch 00003: val_loss did not improve from 1.03749\n",
            "Epoch 4/8\n",
            "672/672 [==============================] - 95s 141ms/step - loss: 1.2541 - accuracy: 0.7164 - precision: 0.7917 - recall: 0.6284 - val_loss: 1.0924 - val_accuracy: 0.6233 - val_precision: 0.6829 - val_recall: 0.5512\n",
            "\n",
            "Epoch 00004: val_loss did not improve from 1.03749\n",
            "Epoch 5/8\n",
            "672/672 [==============================] - 96s 143ms/step - loss: 1.2180 - accuracy: 0.7237 - precision: 0.7970 - recall: 0.6422 - val_loss: 1.0593 - val_accuracy: 0.6355 - val_precision: 0.6928 - val_recall: 0.5723\n",
            "\n",
            "Epoch 00005: val_loss did not improve from 1.03749\n",
            "Epoch 6/8\n",
            "672/672 [==============================] - 95s 142ms/step - loss: 1.1701 - accuracy: 0.7338 - precision: 0.8072 - recall: 0.6609 - val_loss: 1.1538 - val_accuracy: 0.6265 - val_precision: 0.6750 - val_recall: 0.5731\n",
            "\n",
            "Epoch 00006: val_loss did not improve from 1.03749\n",
            "Epoch 7/8\n",
            "672/672 [==============================] - 96s 142ms/step - loss: 1.1501 - accuracy: 0.7378 - precision: 0.8052 - recall: 0.6641 - val_loss: 1.0913 - val_accuracy: 0.6371 - val_precision: 0.6926 - val_recall: 0.5847\n",
            "\n",
            "Epoch 00007: val_loss did not improve from 1.03749\n",
            "Epoch 8/8\n",
            "672/672 [==============================] - 94s 140ms/step - loss: 1.0745 - accuracy: 0.7517 - precision: 0.8145 - recall: 0.6840 - val_loss: 1.1072 - val_accuracy: 0.6378 - val_precision: 0.6879 - val_recall: 0.5855\n",
            "\n",
            "Epoch 00008: val_loss did not improve from 1.03749\n"
          ],
          "name": "stdout"
        }
      ]
    },
    {
      "cell_type": "code",
      "metadata": {
        "id": "cVGQoiOMVwEn"
      },
      "source": [
        "from tensorflow.keras.applications import EfficientNetB2\n",
        "\n",
        "backbone = EfficientNetB2(\n",
        "    input_shape=(96, 96, 3),\n",
        "    include_top=False\n",
        ")\n",
        "\n",
        "model = tf.keras.Sequential([\n",
        "    backbone,\n",
        "    tf.keras.layers.GlobalAveragePooling2D(),\n",
        "    tf.keras.layers.Dropout(0.3),\n",
        "    tf.keras.layers.Dense(128, activation='relu'),\n",
        "    tf.keras.layers.Dense(7, activation='softmax')\n",
        "])\n",
        "\n",
        "model.compile(\n",
        "    optimizer=tf.keras.optimizers.Adam(learning_rate=0.001, beta_1=0.9, beta_2=0.999, epsilon=1e-07),\n",
        "    loss = 'categorical_crossentropy',\n",
        "    metrics=['accuracy' , tf.keras.metrics.Precision(name='precision'),tf.keras.metrics.Recall(name='recall')]\n",
        ")"
      ],
      "execution_count": 28,
      "outputs": []
    },
    {
      "cell_type": "code",
      "metadata": {
        "id": "vUnhM5odVwMz"
      },
      "source": [
        "model.load_weights(\"best_weights.h5\")"
      ],
      "execution_count": 29,
      "outputs": []
    },
    {
      "cell_type": "code",
      "metadata": {
        "id": "w9n2bB95VwTO"
      },
      "source": [
        "# Create a Dataset Object for 'Testing' Set just the way we did for Training and Validation\n",
        "test_image_paths = list(test_path.glob(\"*/*\"))\n",
        "test_image_paths = list(map(lambda x : str(x) , test_image_paths))\n",
        "test_labels = list(map(lambda x : get_label(x) , test_image_paths))\n",
        "\n",
        "test_labels = Le.transform(test_labels)\n",
        "test_labels = tf.keras.utils.to_categorical(test_labels)\n",
        "\n",
        "test_image_paths = tf.convert_to_tensor(test_image_paths)\n",
        "test_labels = tf.convert_to_tensor(test_labels)\n",
        "\n",
        "def decode_image(image , label):\n",
        "    image = tf.io.read_file(image)\n",
        "    image = tf.io.decode_jpeg(image , channels = 3)\n",
        "    image = tf.image.resize(image , [96 , 96] , method=\"bilinear\")\n",
        "    return image , label\n",
        "\n",
        "test_dataset = (\n",
        "     tf.data.Dataset\n",
        "    .from_tensor_slices((test_image_paths, test_labels))\n",
        "    .map(decode_image)\n",
        "    .batch(BATCH_SIZE)\n",
        ")"
      ],
      "execution_count": 30,
      "outputs": []
    },
    {
      "cell_type": "code",
      "metadata": {
        "colab": {
          "base_uri": "https://localhost:8080/"
        },
        "id": "QaaDOEvnVwak",
        "outputId": "a8d123ba-3a32-4aa1-f218-e37873a94baf"
      },
      "source": [
        "# Verify Test Dataset Object\n",
        "image , label = next(iter(test_dataset))\n",
        "print(image.shape)\n",
        "print(label.shape)"
      ],
      "execution_count": 31,
      "outputs": [
        {
          "output_type": "stream",
          "text": [
            "(32, 96, 96, 3)\n",
            "(32, 7)\n"
          ],
          "name": "stdout"
        }
      ]
    },
    {
      "cell_type": "code",
      "metadata": {
        "colab": {
          "base_uri": "https://localhost:8080/",
          "height": 302
        },
        "id": "OaRSSc4He8pR",
        "outputId": "dd0dd4a1-5ab5-408a-d962-f248fdb3619c"
      },
      "source": [
        "# View a sample Validation Image\n",
        "print(Le.inverse_transform(np.argmax(label , axis = 1))[0])\n",
        "plt.imshow((image[0].numpy()/255).reshape(96 , 96 , 3))"
      ],
      "execution_count": 32,
      "outputs": [
        {
          "output_type": "stream",
          "text": [
            "neutral\n"
          ],
          "name": "stdout"
        },
        {
          "output_type": "execute_result",
          "data": {
            "text/plain": [
              "<matplotlib.image.AxesImage at 0x7f86ba14b190>"
            ]
          },
          "metadata": {
            "tags": []
          },
          "execution_count": 32
        },
        {
          "output_type": "display_data",
          "data": {
            "image/png": "[encoded data removed]",
            "text/plain": [
              "<Figure size 432x288 with 1 Axes>"
            ]
          },
          "metadata": {
            "tags": [],
            "needs_background": "light"
          }
        }
      ]
    },
    {
      "cell_type": "code",
      "metadata": {
        "colab": {
          "base_uri": "https://localhost:8080/"
        },
        "id": "-x_0eXMse8sa",
        "outputId": "55bce5dc-e133-4f46-c8cf-8c5bb50da599"
      },
      "source": [
        "# Evaluating the loaded model\n",
        "loss, acc, prec, rec = model.evaluate(test_dataset)\n",
        "\n",
        "print(\" Testing Acc : \" , acc)\n",
        "print(\" Testing Precision \" , prec)\n",
        "print(\" Testing Recall \" , rec)"
      ],
      "execution_count": 33,
      "outputs": [
        {
          "output_type": "stream",
          "text": [
            "225/225 [==============================] - 10s 30ms/step - loss: 1.0561 - accuracy: 0.6197 - precision: 0.6938 - recall: 0.5410\n",
            " Testing Acc :  0.6196712255477905\n",
            " Testing Precision  0.6937645077705383\n",
            " Testing Recall  0.5409584641456604\n"
          ],
          "name": "stdout"
        }
      ]
    },
    {
      "cell_type": "code",
      "metadata": {
        "id": "wZdR_cI2e81w"
      },
      "source": [
        "# Save Model\n",
        "model.save(\"FacialExpressionModel.h5\")"
      ],
      "execution_count": 34,
      "outputs": []
    },
    {
      "cell_type": "code",
      "metadata": {
        "id": "78_R0Sg0e9Fs"
      },
      "source": [
        "# Save Label Encoder \n",
        "import pickle\n",
        "\n",
        "def save_object(obj , name):\n",
        "    pickle_obj = open(f\"{name}.pck\",\"wb\")\n",
        "    pickle.dump(obj, pickle_obj)\n",
        "    pickle_obj.close()"
      ],
      "execution_count": 35,
      "outputs": []
    },
    {
      "cell_type": "code",
      "metadata": {
        "id": "_fXfoPWCe9Sa"
      },
      "source": [
        "save_object(Le, \"LabelEncoder\")"
      ],
      "execution_count": 36,
      "outputs": []
    }
  ]
}